{
 "cells": [
  {
   "cell_type": "code",
   "execution_count": 23,
   "id": "0edb7afb-779d-4529-b361-77b583105a9b",
   "metadata": {},
   "outputs": [],
   "source": [
    "import os\n",
    "import numpy as np\n",
    "import pandas as pd\n",
    "import matplotlib.pyplot as plt"
   ]
  },
  {
   "cell_type": "code",
   "execution_count": 29,
   "id": "6abcfd0d-b6b1-4de8-a096-6346b8d63ff9",
   "metadata": {},
   "outputs": [
    {
     "name": "stdout",
     "output_type": "stream",
     "text": [
      "RMS > 0.004: Kepler-854 b\n",
      "RMS > 0.004: Kepler-17 b\n",
      "RMS > 0.004: Kepler-71 b\n",
      "RMS > 0.004: Kepler-1 b\n",
      "RMS > 0.004: Kepler-94 b\n",
      "RMS > 0.004: Kepler-785 b\n",
      "RMS > 0.004: Kepler-45 b\n",
      "['Kepler-424 b']\n"
     ]
    },
    {
     "data": {
      "text/plain": [
       "Text(0.5, 1.0, 'RMS for depth recovery, of planets with at least one flag')"
      ]
     },
     "execution_count": 29,
     "metadata": {},
     "output_type": "execute_result"
    },
    {
     "data": {
      "image/png": "[encoded data removed]",
      "text/plain": [
       "<Figure size 432x288 with 1 Axes>"
      ]
     },
     "metadata": {
      "needs_background": "light"
     },
     "output_type": "display_data"
    }
   ],
   "source": [
    "path = 'Injection_recovery/Inj_rec_11Jun2022'\n",
    "planet_list = os.listdir(path)\n",
    "failed = []\n",
    "depth_RMS = np.zeros(len(planet_list))*np.nan\n",
    "for i in range(len(planet_list)):\n",
    "    planet = planet_list[i]\n",
    "    if os.path.exists(path + '/' + planet + '/Log.txt'): failed +=[planet]\n",
    "    else:\n",
    "        summary = pd.read_csv(path + '/' + planet + '/Injection_recovory_summary.csv')\n",
    "        depth_RMS[i] = summary['Depth_RMS']\n",
    "        if depth_RMS[i] > 0.004: print('RMS > 0.004: ' + planet)\n",
    "    \n",
    "print(failed)\n",
    "\n",
    "plt.figure()\n",
    "bins = 100\n",
    "plt.hist(depth_RMS, bins = bins)\n",
    "plt.title('RMS for depth recovery, of planets with at least one flag')\n",
    "\n"
   ]
  },
  {
   "cell_type": "code",
   "execution_count": 7,
   "id": "d534cc85-92ec-4572-b01e-e24f1dc8266c",
   "metadata": {},
   "outputs": [],
   "source": [
    "textfile = open(\"redo_planets_6-9-22.txt\", \"w\")\n",
    "for i in range(len(failed)):\n",
    "    element = failed[i]\n",
    "    if i < len(failed) - 1:\n",
    "#        textfile.write(element + \", \")\n",
    "    elif i == len(failed) - 1:\n",
    "#        textfile.write(element)\n",
    "textfile.close()"
   ]
  },
  {
   "cell_type": "code",
   "execution_count": 21,
   "id": "ddc5d82b-50c6-4dc6-b27a-fe029602df7b",
   "metadata": {},
   "outputs": [
    {
     "data": {
      "text/html": [
       "<div>\n",
       "<style scoped>\n",
       "    .dataframe tbody tr th:only-of-type {\n",
       "        vertical-align: middle;\n",
       "    }\n",
       "\n",
       "    .dataframe tbody tr th {\n",
       "        vertical-align: top;\n",
       "    }\n",
       "\n",
       "    .dataframe thead th {\n",
       "        text-align: right;\n",
       "    }\n",
       "</style>\n",
       "<table border=\"1\" class=\"dataframe\">\n",
       "  <thead>\n",
       "    <tr style=\"text-align: right;\">\n",
       "      <th></th>\n",
       "      <th>Total</th>\n",
       "      <th>Fraction_TP_missing</th>\n",
       "      <th>Fraction_TN_missing</th>\n",
       "      <th>Fraction_FP_missing</th>\n",
       "      <th>Fraction_FN_missing</th>\n",
       "      <th>Fraction_TP_TTV</th>\n",
       "      <th>Fraction_TN_TTV</th>\n",
       "      <th>Fraction_FP_TTV</th>\n",
       "      <th>Fraction_FN_TTV</th>\n",
       "      <th>Fraction_TP_depth</th>\n",
       "      <th>Fraction_TN_depth</th>\n",
       "      <th>Fraction_FP_depth</th>\n",
       "      <th>Fraction_FN_depth</th>\n",
       "      <th>mean_ttv+5sigma</th>\n",
       "      <th>fit_window_bound</th>\n",
       "      <th>3*flux_SD</th>\n",
       "      <th>mean_depth-3sigma</th>\n",
       "      <th>mean_depth+3sigma</th>\n",
       "    </tr>\n",
       "  </thead>\n",
       "  <tbody>\n",
       "    <tr>\n",
       "      <th>0</th>\n",
       "      <td>995</td>\n",
       "      <td>0.013065</td>\n",
       "      <td>0.872362</td>\n",
       "      <td>0.025126</td>\n",
       "      <td>0.089447</td>\n",
       "      <td>0.926633</td>\n",
       "      <td>0.056281</td>\n",
       "      <td>0.013065</td>\n",
       "      <td>0.00402</td>\n",
       "      <td>0.121608</td>\n",
       "      <td>0.756784</td>\n",
       "      <td>0.059296</td>\n",
       "      <td>0.062312</td>\n",
       "      <td>0.034424</td>\n",
       "      <td>0.48785</td>\n",
       "      <td>0.002979</td>\n",
       "      <td>0.01458</td>\n",
       "      <td>0.025932</td>\n",
       "    </tr>\n",
       "  </tbody>\n",
       "</table>\n",
       "</div>"
      ],
      "text/plain": [
       "   Total  Fraction_TP_missing  Fraction_TN_missing  Fraction_FP_missing  \\\n",
       "0    995             0.013065             0.872362             0.025126   \n",
       "\n",
       "   Fraction_FN_missing  Fraction_TP_TTV  Fraction_TN_TTV  Fraction_FP_TTV  \\\n",
       "0             0.089447         0.926633         0.056281         0.013065   \n",
       "\n",
       "   Fraction_FN_TTV  Fraction_TP_depth  Fraction_TN_depth  Fraction_FP_depth  \\\n",
       "0          0.00402           0.121608           0.756784           0.059296   \n",
       "\n",
       "   Fraction_FN_depth  mean_ttv+5sigma  fit_window_bound  3*flux_SD  \\\n",
       "0           0.062312         0.034424           0.48785   0.002979   \n",
       "\n",
       "   mean_depth-3sigma  mean_depth+3sigma  \n",
       "0            0.01458           0.025932  "
      ]
     },
     "execution_count": 21,
     "metadata": {},
     "output_type": "execute_result"
    }
   ],
   "source": [
    "summary"
   ]
  },
  {
   "cell_type": "code",
   "execution_count": null,
   "id": "1578f7e8-26ce-46cf-840c-469495d8407a",
   "metadata": {},
   "outputs": [],
   "source": []
  }
 ],
 "metadata": {
  "kernelspec": {
   "display_name": "Python 3",
   "language": "python",
   "name": "python3"
  },
  "language_info": {
   "codemirror_mode": {
    "name": "ipython",
    "version": 3
   },
   "file_extension": ".py",
   "mimetype": "text/x-python",
   "name": "python",
   "nbconvert_exporter": "python",
   "pygments_lexer": "ipython3",
   "version": "3.7.6"
  }
 },
 "nbformat": 4,
 "nbformat_minor": 5
}
